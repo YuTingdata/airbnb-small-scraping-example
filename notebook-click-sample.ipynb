{
 "cells": [
  {
   "cell_type": "code",
   "execution_count": 65,
   "metadata": {},
   "outputs": [],
   "source": [
    "import sys\n",
    "import csv\n",
    "import string\n",
    "import time\n",
    "import pandas as pd\n",
    "import numpy as np\n",
    "import selenium\n",
    "from selenium import webdriver\n",
    "import time"
   ]
  },
  {
   "cell_type": "code",
   "execution_count": 66,
   "metadata": {},
   "outputs": [],
   "source": [
    "# home page airbnb\n",
    "url = \" https://www.airbnb.com/\""
   ]
  },
  {
   "cell_type": "code",
   "execution_count": 67,
   "metadata": {},
   "outputs": [],
   "source": [
    "# import the webdriver\n",
    "driver = webdriver.Firefox()\n",
    "driver.get(url)\n",
    "time.sleep(15) # give time to init driver"
   ]
  },
  {
   "cell_type": "code",
   "execution_count": 68,
   "metadata": {},
   "outputs": [],
   "source": [
    "close_button = driver.find_element_by_xpath(\"//button[contains(@aria-label, 'Close')]\")\n",
    "if close_button:\n",
    "    close_button.click()\n"
   ]
  },
  {
   "cell_type": "code",
   "execution_count": 69,
   "metadata": {},
   "outputs": [],
   "source": [
    "time.sleep(2)"
   ]
  },
  {
   "cell_type": "code",
   "execution_count": 70,
   "metadata": {},
   "outputs": [],
   "source": [
    "category = driver.find_element_by_xpath(\"//div[contains(@data-testid, 'category-item--Beachfront--unchecked')]\")\n",
    "if category:\n",
    "    category.click()"
   ]
  },
  {
   "cell_type": "code",
   "execution_count": 71,
   "metadata": {},
   "outputs": [],
   "source": [
    "time.sleep(2)"
   ]
  },
  {
   "cell_type": "code",
   "execution_count": 72,
   "metadata": {},
   "outputs": [],
   "source": [
    "# Scrolling to make appear the \"Show more\" button\n",
    "for _ in range(0,4):\n",
    "    time.sleep(1)\n",
    "    driver.execute_script('scrollBy(0,1000)')\n",
    "time.sleep(1)\n",
    "driver.execute_script('scrollBy(0,-500)')"
   ]
  },
  {
   "cell_type": "code",
   "execution_count": 73,
   "metadata": {},
   "outputs": [],
   "source": [
    "from selenium.webdriver.common.by import By\n",
    "\n",
    "showMoreBtn = driver.find_element(By.XPATH, '//button[text()=\"Show more\"]')\n",
    "showMoreBtn.click()\n",
    "\n",
    "time.sleep(5)\n",
    "driver.execute_script('scrollBy(0,-4000)')\n",
    "\n",
    "for _ in range(0,10):\n",
    "    time.sleep(2)\n",
    "    driver.execute_script('scrollBy(0,-2000)')"
   ]
  },
  {
   "cell_type": "code",
   "execution_count": 74,
   "metadata": {},
   "outputs": [],
   "source": [
    "driver.quit()"
   ]
  }
 ],
 "metadata": {
  "kernelspec": {
   "display_name": "base",
   "language": "python",
   "name": "python3"
  },
  "language_info": {
   "codemirror_mode": {
    "name": "ipython",
    "version": 3
   },
   "file_extension": ".py",
   "mimetype": "text/x-python",
   "name": "python",
   "nbconvert_exporter": "python",
   "pygments_lexer": "ipython3",
   "version": "3.9.13"
  }
 },
 "nbformat": 4,
 "nbformat_minor": 2
}
