{
 "cells": [
  {
   "cell_type": "markdown",
   "metadata": {},
   "source": [
    "# Webscraping small project\n",
    "\n",
    "The aim of this notebook is to demonstrate simply how to use selenium to get content from a webpage.\n",
    "\n",
    "### Prerequisite:\n",
    "- webdriver-manager needs to be installed \n",
    "- a specific driver ( eg: geckodriver for firefox needs to be download and accessible by webdriver-manager)"
   ]
  },
  {
   "cell_type": "markdown",
   "metadata": {},
   "source": [
    "## Importing libraries"
   ]
  },
  {
   "cell_type": "code",
   "execution_count": 51,
   "metadata": {},
   "outputs": [],
   "source": [
    "import sys\n",
    "import csv\n",
    "import time\n",
    "import pandas as pd\n",
    "import numpy as np\n",
    "import selenium\n",
    "from selenium import webdriver\n",
    "import time"
   ]
  },
  {
   "cell_type": "code",
   "execution_count": 52,
   "metadata": {},
   "outputs": [
    {
     "data": {
      "text/plain": [
       "'3.141.0'"
      ]
     },
     "execution_count": 52,
     "metadata": {},
     "output_type": "execute_result"
    }
   ],
   "source": [
    "selenium.__version__"
   ]
  },
  {
   "cell_type": "markdown",
   "metadata": {},
   "source": [
    "## Settings"
   ]
  },
  {
   "cell_type": "code",
   "execution_count": 53,
   "metadata": {},
   "outputs": [],
   "source": [
    "# home page airbnb\n",
    "url = \" https://www.airbnb.com/\""
   ]
  },
  {
   "cell_type": "markdown",
   "metadata": {},
   "source": [
    "## Loading driver with url"
   ]
  },
  {
   "cell_type": "code",
   "execution_count": 54,
   "metadata": {},
   "outputs": [],
   "source": [
    "# import the webdriver\n",
    "driver = webdriver.Firefox()\n",
    "driver.get(url)\n",
    "time.sleep(5) # give time to init driver"
   ]
  },
  {
   "cell_type": "markdown",
   "metadata": {},
   "source": [
    "## (1) Extract the home page info, write it in a csv"
   ]
  },
  {
   "cell_type": "code",
   "execution_count": 55,
   "metadata": {},
   "outputs": [
    {
     "name": "stdout",
     "output_type": "stream",
     "text": [
      "Size titles : 20\n",
      "Size prices : 20\n"
     ]
    }
   ],
   "source": [
    "from selenium.webdriver.common.by import By\n",
    "\n",
    "container = driver.find_element(By.ID, \"site-content\")\n",
    "\n",
    "# Fetching the div tags with data-testid id correspon to listing-card-title ( where titles of content cards are contained)\n",
    "titles = container.find_elements(By.CSS_SELECTOR, \"div[data-testid='listing-card-title']\")\n",
    "tmp_subtitles = container.find_elements(By.CSS_SELECTOR, \"div[data-testid='listing-card-subtitle']\")\n",
    "\n",
    "subtitles= np.reshape(tmp_subtitles, (-1, 2))\n",
    "\n",
    "# Fetching the prices elements ( need more work to retrieve the price inside the elements)\n",
    "price_elements = container.find_elements(By.CSS_SELECTOR, \"div[data-testid='price-availability-row']\")\n",
    "\n",
    "price_list = []\n",
    "for p in price_elements:\n",
    "    # retrieve price as text in the price element\n",
    "    price_text = p.find_element(By.CLASS_NAME, \"_1y74zjx\").text\n",
    "    price_list.append(price_text)\n",
    "    \n",
    "\n",
    "print(f'Size titles : {len(titles)}')\n",
    "print(f\"Size prices : {len(price_list)}\")\n",
    "\n"
   ]
  },
  {
   "cell_type": "code",
   "execution_count": 56,
   "metadata": {},
   "outputs": [
    {
     "name": "stdout",
     "output_type": "stream",
     "text": [
      "[<selenium.webdriver.firefox.webelement.FirefoxWebElement (session=\"988aeb4e-5cc2-43ae-98b5-5476ad3bab0c\", element=\"6976e38a-d358-429d-950f-7b937c27400b\")>\n",
      " <selenium.webdriver.firefox.webelement.FirefoxWebElement (session=\"988aeb4e-5cc2-43ae-98b5-5476ad3bab0c\", element=\"7ea1d4f9-b668-4824-b538-71850be1a272\")>\n",
      " <selenium.webdriver.firefox.webelement.FirefoxWebElement (session=\"988aeb4e-5cc2-43ae-98b5-5476ad3bab0c\", element=\"77a89b61-b6e6-496f-a619-4f95e6e07f7b\")>\n",
      " <selenium.webdriver.firefox.webelement.FirefoxWebElement (session=\"988aeb4e-5cc2-43ae-98b5-5476ad3bab0c\", element=\"89101e9c-00fc-406c-b83a-3813b32c53f4\")>\n",
      " <selenium.webdriver.firefox.webelement.FirefoxWebElement (session=\"988aeb4e-5cc2-43ae-98b5-5476ad3bab0c\", element=\"7258a7a0-4628-4b40-8473-985c21506a78\")>\n",
      " <selenium.webdriver.firefox.webelement.FirefoxWebElement (session=\"988aeb4e-5cc2-43ae-98b5-5476ad3bab0c\", element=\"6922ae3b-7740-484e-9904-a14b28e46150\")>\n",
      " <selenium.webdriver.firefox.webelement.FirefoxWebElement (session=\"988aeb4e-5cc2-43ae-98b5-5476ad3bab0c\", element=\"6e059b3b-c886-4b38-80a0-ff784be5e90f\")>\n",
      " <selenium.webdriver.firefox.webelement.FirefoxWebElement (session=\"988aeb4e-5cc2-43ae-98b5-5476ad3bab0c\", element=\"f360b753-c077-4d74-8e38-d41f3ddbc5a8\")>\n",
      " <selenium.webdriver.firefox.webelement.FirefoxWebElement (session=\"988aeb4e-5cc2-43ae-98b5-5476ad3bab0c\", element=\"8742e67a-878a-416c-9fb4-3b9626f6bf6c\")>\n",
      " <selenium.webdriver.firefox.webelement.FirefoxWebElement (session=\"988aeb4e-5cc2-43ae-98b5-5476ad3bab0c\", element=\"a81da4fa-9ad3-4d32-bd5e-81d57a717573\")>\n",
      " <selenium.webdriver.firefox.webelement.FirefoxWebElement (session=\"988aeb4e-5cc2-43ae-98b5-5476ad3bab0c\", element=\"2c9598a5-2fc0-451b-a257-6b8afea8b5b6\")>\n",
      " <selenium.webdriver.firefox.webelement.FirefoxWebElement (session=\"988aeb4e-5cc2-43ae-98b5-5476ad3bab0c\", element=\"cae8616e-c5b7-4cbd-a9fb-5aaff44dee19\")>\n",
      " <selenium.webdriver.firefox.webelement.FirefoxWebElement (session=\"988aeb4e-5cc2-43ae-98b5-5476ad3bab0c\", element=\"c0973287-39c8-4c4c-b4e5-3d7a492ac558\")>\n",
      " <selenium.webdriver.firefox.webelement.FirefoxWebElement (session=\"988aeb4e-5cc2-43ae-98b5-5476ad3bab0c\", element=\"8ab7f32b-5481-414e-a521-72bd1ddf900f\")>\n",
      " <selenium.webdriver.firefox.webelement.FirefoxWebElement (session=\"988aeb4e-5cc2-43ae-98b5-5476ad3bab0c\", element=\"fa76da78-3088-475b-98aa-f02a77cda46a\")>\n",
      " <selenium.webdriver.firefox.webelement.FirefoxWebElement (session=\"988aeb4e-5cc2-43ae-98b5-5476ad3bab0c\", element=\"3c701d78-4179-4461-b6be-dd0c54b80cfa\")>\n",
      " <selenium.webdriver.firefox.webelement.FirefoxWebElement (session=\"988aeb4e-5cc2-43ae-98b5-5476ad3bab0c\", element=\"333af41d-8230-4473-89ef-9dd2f4a2b78a\")>\n",
      " <selenium.webdriver.firefox.webelement.FirefoxWebElement (session=\"988aeb4e-5cc2-43ae-98b5-5476ad3bab0c\", element=\"c98fc6e6-e954-40c3-b9cb-a66f4e31894e\")>\n",
      " <selenium.webdriver.firefox.webelement.FirefoxWebElement (session=\"988aeb4e-5cc2-43ae-98b5-5476ad3bab0c\", element=\"3bfa4f24-34c6-4436-a1fd-3bdc1711e0ca\")>\n",
      " <selenium.webdriver.firefox.webelement.FirefoxWebElement (session=\"988aeb4e-5cc2-43ae-98b5-5476ad3bab0c\", element=\"d77c9e04-6830-45c0-95fe-9391daaaf2b1\")>]\n"
     ]
    }
   ],
   "source": [
    "# Print all rows from column 0\n",
    "print(subtitles[:,0])"
   ]
  },
  {
   "cell_type": "code",
   "execution_count": 57,
   "metadata": {},
   "outputs": [],
   "source": [
    "data = {'Title': titles,\n",
    "        'Price': price_list,\n",
    "        'Distance' : subtitles[:,0],\n",
    "        'Dates' : subtitles[:,1]}\n",
    "\n",
    "df = pd.DataFrame(data)\n",
    "df['Title'] =  df['Title'].transform(lambda x: x.text)\n",
    "df['Distance'] =  df['Distance'].transform(lambda x: x.text)\n",
    "df['Dates'] =  df['Dates'].transform(lambda x: x.text)"
   ]
  },
  {
   "cell_type": "code",
   "execution_count": 60,
   "metadata": {},
   "outputs": [],
   "source": [
    "driver.quit()"
   ]
  },
  {
   "cell_type": "code",
   "execution_count": 59,
   "metadata": {},
   "outputs": [
    {
     "data": {
      "text/html": [
       "<div>\n",
       "<style scoped>\n",
       "    .dataframe tbody tr th:only-of-type {\n",
       "        vertical-align: middle;\n",
       "    }\n",
       "\n",
       "    .dataframe tbody tr th {\n",
       "        vertical-align: top;\n",
       "    }\n",
       "\n",
       "    .dataframe thead th {\n",
       "        text-align: right;\n",
       "    }\n",
       "</style>\n",
       "<table border=\"1\" class=\"dataframe\">\n",
       "  <thead>\n",
       "    <tr style=\"text-align: right;\">\n",
       "      <th></th>\n",
       "      <th>Title</th>\n",
       "      <th>Price</th>\n",
       "      <th>Distance</th>\n",
       "      <th>Dates</th>\n",
       "    </tr>\n",
       "  </thead>\n",
       "  <tbody>\n",
       "    <tr>\n",
       "      <th>0</th>\n",
       "      <td>Claix, France</td>\n",
       "      <td>€ 182</td>\n",
       "      <td>6 kilometers away\\n6 kilometers away</td>\n",
       "      <td>May 12 – 17\\nMay 12 – 17</td>\n",
       "    </tr>\n",
       "    <tr>\n",
       "      <th>1</th>\n",
       "      <td>Lumbin, France</td>\n",
       "      <td>€ 78</td>\n",
       "      <td>22 kilometers away\\n22 kilometers away</td>\n",
       "      <td>May 1 – 6\\nMay 1 – 6</td>\n",
       "    </tr>\n",
       "    <tr>\n",
       "      <th>2</th>\n",
       "      <td>Charvieu-Chavagneux, France</td>\n",
       "      <td>€ 180</td>\n",
       "      <td>77 kilometers away\\n77 kilometers away</td>\n",
       "      <td>May 19 – 24\\nMay 19 – 24</td>\n",
       "    </tr>\n",
       "    <tr>\n",
       "      <th>3</th>\n",
       "      <td>Saint-Alban-Leysse, France</td>\n",
       "      <td>€ 568</td>\n",
       "      <td>50 kilometers away\\n50 kilometers away</td>\n",
       "      <td>May 10 – 15\\nMay 10 – 15</td>\n",
       "    </tr>\n",
       "    <tr>\n",
       "      <th>4</th>\n",
       "      <td>Sévrier, France</td>\n",
       "      <td>€ 317</td>\n",
       "      <td>83 kilometers away\\n83 kilometers away</td>\n",
       "      <td>May 1 – 6\\nMay 1 – 6</td>\n",
       "    </tr>\n",
       "  </tbody>\n",
       "</table>\n",
       "</div>"
      ],
      "text/plain": [
       "                         Title   Price  \\\n",
       "0                Claix, France  € 182    \n",
       "1               Lumbin, France   € 78    \n",
       "2  Charvieu-Chavagneux, France  € 180    \n",
       "3   Saint-Alban-Leysse, France  € 568    \n",
       "4              Sévrier, France  € 317    \n",
       "\n",
       "                                 Distance                     Dates  \n",
       "0    6 kilometers away\\n6 kilometers away  May 12 – 17\\nMay 12 – 17  \n",
       "1  22 kilometers away\\n22 kilometers away      May 1 – 6\\nMay 1 – 6  \n",
       "2  77 kilometers away\\n77 kilometers away  May 19 – 24\\nMay 19 – 24  \n",
       "3  50 kilometers away\\n50 kilometers away  May 10 – 15\\nMay 10 – 15  \n",
       "4  83 kilometers away\\n83 kilometers away      May 1 – 6\\nMay 1 – 6  "
      ]
     },
     "execution_count": 59,
     "metadata": {},
     "output_type": "execute_result"
    }
   ],
   "source": [
    "df.head()"
   ]
  },
  {
   "cell_type": "code",
   "execution_count": null,
   "metadata": {},
   "outputs": [],
   "source": [
    "# TODO : Format\n",
    "# TODO : Write in csv"
   ]
  }
 ],
 "metadata": {
  "kernelspec": {
   "display_name": "base",
   "language": "python",
   "name": "python3"
  },
  "language_info": {
   "codemirror_mode": {
    "name": "ipython",
    "version": 3
   },
   "file_extension": ".py",
   "mimetype": "text/x-python",
   "name": "python",
   "nbconvert_exporter": "python",
   "pygments_lexer": "ipython3",
   "version": "3.9.13"
  }
 },
 "nbformat": 4,
 "nbformat_minor": 2
}
