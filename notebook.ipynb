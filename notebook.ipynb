{
 "cells": [
  {
   "cell_type": "markdown",
   "metadata": {},
   "source": [
    "# Webscraping small project\n",
    "\n",
    "The aim of this notebook is to demonstrate simply how to use selenium to get content from a webpage.\n",
    "\n",
    "### Prerequisite:\n",
    "- webdriver-manager needs to be installed \n",
    "- a specific driver ( eg: geckodriver for firefox needs to be download and accessible by webdriver-manager)"
   ]
  },
  {
   "cell_type": "markdown",
   "metadata": {},
   "source": [
    "## Importing libraries"
   ]
  },
  {
   "cell_type": "code",
   "execution_count": 1,
   "metadata": {},
   "outputs": [],
   "source": [
    "import sys\n",
    "import csv\n",
    "import selenium\n",
    "from selenium import webdriver\n",
    "import time"
   ]
  },
  {
   "cell_type": "code",
   "execution_count": 2,
   "metadata": {},
   "outputs": [
    {
     "data": {
      "text/plain": [
       "'3.141.0'"
      ]
     },
     "execution_count": 2,
     "metadata": {},
     "output_type": "execute_result"
    }
   ],
   "source": [
    "selenium.__version__"
   ]
  },
  {
   "cell_type": "markdown",
   "metadata": {},
   "source": [
    "## Settings"
   ]
  },
  {
   "cell_type": "code",
   "execution_count": 3,
   "metadata": {},
   "outputs": [],
   "source": [
    "# home page airbnb\n",
    "url = \" https://www.airbnb.com/\""
   ]
  },
  {
   "cell_type": "markdown",
   "metadata": {},
   "source": [
    "## Loading driver with url"
   ]
  },
  {
   "cell_type": "code",
   "execution_count": 4,
   "metadata": {},
   "outputs": [],
   "source": [
    "# import the webdriver\n",
    "driver = webdriver.Firefox()\n",
    "driver.get(url)"
   ]
  },
  {
   "cell_type": "markdown",
   "metadata": {},
   "source": [
    "## Processing"
   ]
  },
  {
   "cell_type": "code",
   "execution_count": 5,
   "metadata": {},
   "outputs": [
    {
     "name": "stdout",
     "output_type": "stream",
     "text": [
      "Size titles : 20\n",
      "Size prices : 20\n",
      "Title : Balian Beach, Indonesia, price : € 114 \n",
      "Title : Uvita, Costa Rica, price : € 210 \n",
      "Title : Phang Nga, Thailand, price : € 321 \n",
      "Title : Las Galeras, Dominican Republic, price : € 895 \n",
      "Title : Abiansemal, Indonesia, price : € 470 \n",
      "Title : Angra dos Reis, Brazil, price : € 438 \n",
      "Title : Sidemen, Indonesia, price : € 589 \n",
      "Title : Santa Teresa Beach, Costa Rica, price : € 745 \n",
      "Title : Nuevo Arenal, Costa Rica, price : € 1,169 \n",
      "Title : El Limón, Dominican Republic, price : € 3,209 \n",
      "Title : Uvita, Osa , Costa Rica, price : € 1,138 \n",
      "Title : La Romana, Dominican Republic, price : € 10,555 \n",
      "Title : Quintana Roo, Mexico, price : € 996 \n",
      "Title : Bophut, Thailand, price : € 839 \n",
      "Title : Seririt, Indonesia, price : € 137 \n",
      "Title : North Side, Cayman Islands, price : € 520 \n",
      "Title : Playa Hermosa, Costa Rica, price : € 1,159 \n",
      "Title : Phang Nga, Thailand, price : € 509 \n",
      "Title : Playa Moron, Dominican Republic, price : € 1,666 \n",
      "Title : Stake Bay, Cayman Islands, price : € 534 \n"
     ]
    }
   ],
   "source": [
    "from selenium.webdriver.common.by import By\n",
    "\n",
    "container = driver.find_element(By.ID, \"site-content\")\n",
    "\n",
    "# Fetching the div tags with data-testid id correspon to listing-card-title ( where titles of content cards are contained)\n",
    "titles = container.find_elements(By.CSS_SELECTOR, \"div[data-testid='listing-card-title']\")\n",
    "\n",
    "# Fetching the prices elements ( need more work to retrieve the price inside the elements)\n",
    "price_elements = container.find_elements(By.CSS_SELECTOR, \"div[data-testid='price-availability-row']\")\n",
    "\n",
    "price_list = []\n",
    "for p in price_elements:\n",
    "    # retrieve price as text in the price element\n",
    "    price_text = p.find_element(By.CLASS_NAME, \"_1y74zjx\").text\n",
    "    price_list.append(price_text)\n",
    "\n",
    "print(f'Size titles : {len(titles)}')\n",
    "print(f\"Size prices : {len(price_elements)}\")\n",
    "\n",
    "for t,p in zip(titles, price_list):\n",
    "    print(f'Title : {t.text}, price : {p}')\n",
    "driver.quit()"
   ]
  }
 ],
 "metadata": {
  "kernelspec": {
   "display_name": "base",
   "language": "python",
   "name": "python3"
  },
  "language_info": {
   "codemirror_mode": {
    "name": "ipython",
    "version": 3
   },
   "file_extension": ".py",
   "mimetype": "text/x-python",
   "name": "python",
   "nbconvert_exporter": "python",
   "pygments_lexer": "ipython3",
   "version": "3.9.13"
  }
 },
 "nbformat": 4,
 "nbformat_minor": 2
}
