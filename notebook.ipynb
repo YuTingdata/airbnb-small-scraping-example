{
 "cells": [
  {
   "cell_type": "markdown",
   "metadata": {},
   "source": [
    "# Webscraping small project\n",
    "\n",
    "The aim of this notebook is to demonstrate simply how to use selenium to get content from a webpage.\n",
    "\n",
    "### Prerequisite:\n",
    "- webdriver-manager needs to be installed \n",
    "- a specific driver ( eg: geckodriver for firefox needs to be download and accessible by webdriver-manager)"
   ]
  },
  {
   "cell_type": "markdown",
   "metadata": {},
   "source": [
    "## Importing libraries"
   ]
  },
  {
   "cell_type": "code",
   "execution_count": 1,
   "metadata": {},
   "outputs": [],
   "source": [
    "import sys\n",
    "import csv\n",
    "import string\n",
    "import time\n",
    "import pandas as pd\n",
    "import numpy as np\n",
    "import selenium\n",
    "from selenium import webdriver\n",
    "import time"
   ]
  },
  {
   "cell_type": "code",
   "execution_count": 2,
   "metadata": {},
   "outputs": [
    {
     "data": {
      "text/plain": [
       "'3.141.0'"
      ]
     },
     "execution_count": 2,
     "metadata": {},
     "output_type": "execute_result"
    }
   ],
   "source": [
    "selenium.__version__"
   ]
  },
  {
   "cell_type": "markdown",
   "metadata": {},
   "source": [
    "## Settings"
   ]
  },
  {
   "cell_type": "code",
   "execution_count": 3,
   "metadata": {},
   "outputs": [],
   "source": [
    "# home page airbnb\n",
    "url = \" https://www.airbnb.com/\""
   ]
  },
  {
   "cell_type": "markdown",
   "metadata": {},
   "source": [
    "## Loading driver with url"
   ]
  },
  {
   "cell_type": "code",
   "execution_count": 4,
   "metadata": {},
   "outputs": [],
   "source": [
    "# import the webdriver\n",
    "driver = webdriver.Firefox()\n",
    "driver.get(url)\n",
    "time.sleep(5) # give time to init driver"
   ]
  },
  {
   "cell_type": "markdown",
   "metadata": {},
   "source": [
    "## (1) Extract the home page info, write it in a csv"
   ]
  },
  {
   "cell_type": "code",
   "execution_count": null,
   "metadata": {},
   "outputs": [],
   "source": []
  },
  {
   "cell_type": "code",
   "execution_count": 5,
   "metadata": {},
   "outputs": [
    {
     "name": "stdout",
     "output_type": "stream",
     "text": [
      "Size titles : 20\n",
      "Size prices : 20\n"
     ]
    }
   ],
   "source": [
    "from selenium.webdriver.common.by import By\n",
    "\n",
    "container = driver.find_element(By.ID, \"site-content\")\n",
    "\n",
    "# Fetching the div tags with data-testid id correspon to listing-card-title ( where titles of content cards are contained)\n",
    "titles = container.find_elements(By.CSS_SELECTOR, \"div[data-testid='listing-card-title']\")\n",
    "tmp_subtitles = container.find_elements(By.CSS_SELECTOR, \"div[data-testid='listing-card-subtitle']\")\n",
    "\n",
    "subtitles= np.reshape(tmp_subtitles, (-1, 2))\n",
    "\n",
    "# Fetching the prices elements ( need more work to retrieve the price inside the elements)\n",
    "price_elements = container.find_elements(By.CSS_SELECTOR, \"div[data-testid='price-availability-row']\")\n",
    "\n",
    "price_list = []\n",
    "for p in price_elements:\n",
    "    # retrieve price as text in the price element\n",
    "    price_text = p.find_element(By.CLASS_NAME, \"_1y74zjx\").text\n",
    "    price_list.append(price_text)\n",
    "    \n",
    "\n",
    "print(f'Size titles : {len(titles)}')\n",
    "print(f\"Size prices : {len(price_list)}\")\n",
    "\n"
   ]
  },
  {
   "cell_type": "code",
   "execution_count": 6,
   "metadata": {},
   "outputs": [],
   "source": [
    "data = {'Title': titles,\n",
    "        'Price': price_list,\n",
    "        'Distance' : subtitles[:,0],\n",
    "        'Dates' : subtitles[:,1]}\n",
    "\n",
    "df = pd.DataFrame(data)\n",
    "df['Title'] =  df['Title'].transform(lambda x: x.text)\n",
    "df['Distance'] =  df['Distance'].transform(lambda x: x.text)\n",
    "df['Dates'] =  df['Dates'].transform(lambda x: x.text)"
   ]
  },
  {
   "cell_type": "code",
   "execution_count": 7,
   "metadata": {},
   "outputs": [],
   "source": [
    "driver.quit()"
   ]
  },
  {
   "cell_type": "code",
   "execution_count": 8,
   "metadata": {},
   "outputs": [
    {
     "data": {
      "text/html": [
       "<div>\n",
       "<style scoped>\n",
       "    .dataframe tbody tr th:only-of-type {\n",
       "        vertical-align: middle;\n",
       "    }\n",
       "\n",
       "    .dataframe tbody tr th {\n",
       "        vertical-align: top;\n",
       "    }\n",
       "\n",
       "    .dataframe thead th {\n",
       "        text-align: right;\n",
       "    }\n",
       "</style>\n",
       "<table border=\"1\" class=\"dataframe\">\n",
       "  <thead>\n",
       "    <tr style=\"text-align: right;\">\n",
       "      <th></th>\n",
       "      <th>Title</th>\n",
       "      <th>Price</th>\n",
       "      <th>Distance</th>\n",
       "      <th>Dates</th>\n",
       "    </tr>\n",
       "  </thead>\n",
       "  <tbody>\n",
       "    <tr>\n",
       "      <th>0</th>\n",
       "      <td>Claix, France</td>\n",
       "      <td>€ 168</td>\n",
       "      <td>6 kilometers away\\n6 kilometers away</td>\n",
       "      <td>May 1 – 6\\nMay 1 – 6</td>\n",
       "    </tr>\n",
       "    <tr>\n",
       "      <th>1</th>\n",
       "      <td>Lumbin, France</td>\n",
       "      <td>€ 78</td>\n",
       "      <td>22 kilometers away\\n22 kilometers away</td>\n",
       "      <td>May 1 – 6\\nMay 1 – 6</td>\n",
       "    </tr>\n",
       "    <tr>\n",
       "      <th>2</th>\n",
       "      <td>Charvieu-Chavagneux, France</td>\n",
       "      <td>€ 162</td>\n",
       "      <td>77 kilometers away\\n77 kilometers away</td>\n",
       "      <td>May 5 – 10\\nMay 5 – 10</td>\n",
       "    </tr>\n",
       "    <tr>\n",
       "      <th>3</th>\n",
       "      <td>Saint-Alban-Leysse, France</td>\n",
       "      <td>€ 560</td>\n",
       "      <td>50 kilometers away\\n50 kilometers away</td>\n",
       "      <td>May 10 – 15\\nMay 10 – 15</td>\n",
       "    </tr>\n",
       "    <tr>\n",
       "      <th>4</th>\n",
       "      <td>Sévrier, France</td>\n",
       "      <td>€ 317</td>\n",
       "      <td>83 kilometers away\\n83 kilometers away</td>\n",
       "      <td>May 1 – 6\\nMay 1 – 6</td>\n",
       "    </tr>\n",
       "  </tbody>\n",
       "</table>\n",
       "</div>"
      ],
      "text/plain": [
       "                         Title   Price  \\\n",
       "0                Claix, France  € 168    \n",
       "1               Lumbin, France   € 78    \n",
       "2  Charvieu-Chavagneux, France  € 162    \n",
       "3   Saint-Alban-Leysse, France  € 560    \n",
       "4              Sévrier, France  € 317    \n",
       "\n",
       "                                 Distance                     Dates  \n",
       "0    6 kilometers away\\n6 kilometers away      May 1 – 6\\nMay 1 – 6  \n",
       "1  22 kilometers away\\n22 kilometers away      May 1 – 6\\nMay 1 – 6  \n",
       "2  77 kilometers away\\n77 kilometers away    May 5 – 10\\nMay 5 – 10  \n",
       "3  50 kilometers away\\n50 kilometers away  May 10 – 15\\nMay 10 – 15  \n",
       "4  83 kilometers away\\n83 kilometers away      May 1 – 6\\nMay 1 – 6  "
      ]
     },
     "execution_count": 8,
     "metadata": {},
     "output_type": "execute_result"
    }
   ],
   "source": [
    "df.head()"
   ]
  },
  {
   "cell_type": "markdown",
   "metadata": {},
   "source": [
    "### Formatting the columns\n",
    "\n",
    "We want :\n",
    "- Clean `Distance` columns,\n",
    "- Clean and split `Dates` column into 2 columns : `Date_Checkin`, `Date_Checkout`."
   ]
  },
  {
   "cell_type": "code",
   "execution_count": 9,
   "metadata": {},
   "outputs": [],
   "source": [
    "#### Formatting `Distance`"
   ]
  },
  {
   "cell_type": "code",
   "execution_count": 10,
   "metadata": {},
   "outputs": [
    {
     "name": "stderr",
     "output_type": "stream",
     "text": [
      "/tmp/ipykernel_552013/1436444642.py:1: FutureWarning: The default value of regex will change from True to False in a future version.\n",
      "  df['Distance_km'] = df['Distance'].str.replace(r' .*\\n.*', '') # only keep number\n"
     ]
    }
   ],
   "source": [
    "df['Distance_km'] = df['Distance'].str.replace(r' .*\\n.*', '') # only keep number"
   ]
  },
  {
   "cell_type": "code",
   "execution_count": 11,
   "metadata": {},
   "outputs": [
    {
     "data": {
      "text/html": [
       "<div>\n",
       "<style scoped>\n",
       "    .dataframe tbody tr th:only-of-type {\n",
       "        vertical-align: middle;\n",
       "    }\n",
       "\n",
       "    .dataframe tbody tr th {\n",
       "        vertical-align: top;\n",
       "    }\n",
       "\n",
       "    .dataframe thead th {\n",
       "        text-align: right;\n",
       "    }\n",
       "</style>\n",
       "<table border=\"1\" class=\"dataframe\">\n",
       "  <thead>\n",
       "    <tr style=\"text-align: right;\">\n",
       "      <th></th>\n",
       "      <th>Title</th>\n",
       "      <th>Price</th>\n",
       "      <th>Distance</th>\n",
       "      <th>Dates</th>\n",
       "      <th>Distance_km</th>\n",
       "    </tr>\n",
       "  </thead>\n",
       "  <tbody>\n",
       "    <tr>\n",
       "      <th>0</th>\n",
       "      <td>Claix, France</td>\n",
       "      <td>€ 168</td>\n",
       "      <td>6 kilometers away\\n6 kilometers away</td>\n",
       "      <td>May 1 – 6\\nMay 1 – 6</td>\n",
       "      <td>6</td>\n",
       "    </tr>\n",
       "    <tr>\n",
       "      <th>1</th>\n",
       "      <td>Lumbin, France</td>\n",
       "      <td>€ 78</td>\n",
       "      <td>22 kilometers away\\n22 kilometers away</td>\n",
       "      <td>May 1 – 6\\nMay 1 – 6</td>\n",
       "      <td>22</td>\n",
       "    </tr>\n",
       "    <tr>\n",
       "      <th>2</th>\n",
       "      <td>Charvieu-Chavagneux, France</td>\n",
       "      <td>€ 162</td>\n",
       "      <td>77 kilometers away\\n77 kilometers away</td>\n",
       "      <td>May 5 – 10\\nMay 5 – 10</td>\n",
       "      <td>77</td>\n",
       "    </tr>\n",
       "    <tr>\n",
       "      <th>3</th>\n",
       "      <td>Saint-Alban-Leysse, France</td>\n",
       "      <td>€ 560</td>\n",
       "      <td>50 kilometers away\\n50 kilometers away</td>\n",
       "      <td>May 10 – 15\\nMay 10 – 15</td>\n",
       "      <td>50</td>\n",
       "    </tr>\n",
       "    <tr>\n",
       "      <th>4</th>\n",
       "      <td>Sévrier, France</td>\n",
       "      <td>€ 317</td>\n",
       "      <td>83 kilometers away\\n83 kilometers away</td>\n",
       "      <td>May 1 – 6\\nMay 1 – 6</td>\n",
       "      <td>83</td>\n",
       "    </tr>\n",
       "    <tr>\n",
       "      <th>5</th>\n",
       "      <td>Lathuile, France</td>\n",
       "      <td>€ 651</td>\n",
       "      <td>80 kilometers away\\n80 kilometers away</td>\n",
       "      <td>May 1 – 6\\nMay 1 – 6</td>\n",
       "      <td>80</td>\n",
       "    </tr>\n",
       "    <tr>\n",
       "      <th>6</th>\n",
       "      <td>Verrens-Arvey, France</td>\n",
       "      <td>€ 161</td>\n",
       "      <td>71 kilometers away\\n71 kilometers away</td>\n",
       "      <td>Dec 1 – 6\\nDec 1 – 6</td>\n",
       "      <td>71</td>\n",
       "    </tr>\n",
       "    <tr>\n",
       "      <th>7</th>\n",
       "      <td>Novalaise, France</td>\n",
       "      <td>€ 236</td>\n",
       "      <td>44 kilometers away\\n44 kilometers away</td>\n",
       "      <td>Jun 30 – Jul 5\\nJun 30 – Jul 5</td>\n",
       "      <td>44</td>\n",
       "    </tr>\n",
       "    <tr>\n",
       "      <th>8</th>\n",
       "      <td>Saint-Jean-de-Moirans, France</td>\n",
       "      <td>€ 63</td>\n",
       "      <td>22 kilometers away\\n22 kilometers away</td>\n",
       "      <td>Sep 1 – 6\\nSep 1 – 6</td>\n",
       "      <td>22</td>\n",
       "    </tr>\n",
       "    <tr>\n",
       "      <th>9</th>\n",
       "      <td>Saint-Jean-de-Moirans, France</td>\n",
       "      <td>€ 96</td>\n",
       "      <td>22 kilometers away\\n22 kilometers away</td>\n",
       "      <td>Sep 16 – 21\\nSep 16 – 21</td>\n",
       "      <td>22</td>\n",
       "    </tr>\n",
       "    <tr>\n",
       "      <th>10</th>\n",
       "      <td>Fontaine, France</td>\n",
       "      <td></td>\n",
       "      <td>4 kilometers away\\n4 kilometers away</td>\n",
       "      <td>Jun 16 – 21\\nJun 16 – 21</td>\n",
       "      <td>4</td>\n",
       "    </tr>\n",
       "    <tr>\n",
       "      <th>11</th>\n",
       "      <td>Novalaise, France</td>\n",
       "      <td></td>\n",
       "      <td>44 kilometers away\\n44 kilometers away</td>\n",
       "      <td>Sep 15 – 20\\nSep 15 – 20</td>\n",
       "      <td>44</td>\n",
       "    </tr>\n",
       "    <tr>\n",
       "      <th>12</th>\n",
       "      <td>Saint-Cassin, France</td>\n",
       "      <td></td>\n",
       "      <td>43 kilometers away\\n43 kilometers away</td>\n",
       "      <td>May 12 – 17\\nMay 12 – 17</td>\n",
       "      <td>43</td>\n",
       "    </tr>\n",
       "    <tr>\n",
       "      <th>13</th>\n",
       "      <td>Revel, France</td>\n",
       "      <td></td>\n",
       "      <td>12 kilometers away\\n12 kilometers away</td>\n",
       "      <td>May 13 – 18\\nMay 13 – 18</td>\n",
       "      <td>12</td>\n",
       "    </tr>\n",
       "    <tr>\n",
       "      <th>14</th>\n",
       "      <td>Le Bourget-du-Lac, France</td>\n",
       "      <td></td>\n",
       "      <td>54 kilometers away\\n54 kilometers away</td>\n",
       "      <td>Jun 30 – Jul 5\\nJun 30 – Jul 5</td>\n",
       "      <td>54</td>\n",
       "    </tr>\n",
       "    <tr>\n",
       "      <th>15</th>\n",
       "      <td>Geyssans, France</td>\n",
       "      <td></td>\n",
       "      <td>50 kilometers away\\n50 kilometers away</td>\n",
       "      <td>May 26 – 31\\nMay 26 – 31</td>\n",
       "      <td>50</td>\n",
       "    </tr>\n",
       "    <tr>\n",
       "      <th>16</th>\n",
       "      <td>Notre-Dame-du-Cruet, France</td>\n",
       "      <td></td>\n",
       "      <td>51 kilometers away\\n51 kilometers away</td>\n",
       "      <td>May 22 – 27\\nMay 22 – 27</td>\n",
       "      <td>51</td>\n",
       "    </tr>\n",
       "    <tr>\n",
       "      <th>17</th>\n",
       "      <td>Monthion, France</td>\n",
       "      <td></td>\n",
       "      <td>71 kilometers away\\n71 kilometers away</td>\n",
       "      <td>May 18 – 25\\nMay 18 – 25</td>\n",
       "      <td>71</td>\n",
       "    </tr>\n",
       "    <tr>\n",
       "      <th>18</th>\n",
       "      <td>Aix-les-Bains, France</td>\n",
       "      <td></td>\n",
       "      <td>59 kilometers away\\n59 kilometers away</td>\n",
       "      <td>May 12 – 17\\nMay 12 – 17</td>\n",
       "      <td>59</td>\n",
       "    </tr>\n",
       "    <tr>\n",
       "      <th>19</th>\n",
       "      <td>Mery, France</td>\n",
       "      <td></td>\n",
       "      <td>54 kilometers away\\n54 kilometers away</td>\n",
       "      <td>May 1 – 6\\nMay 1 – 6</td>\n",
       "      <td>54</td>\n",
       "    </tr>\n",
       "  </tbody>\n",
       "</table>\n",
       "</div>"
      ],
      "text/plain": [
       "                            Title   Price  \\\n",
       "0                   Claix, France  € 168    \n",
       "1                  Lumbin, France   € 78    \n",
       "2     Charvieu-Chavagneux, France  € 162    \n",
       "3      Saint-Alban-Leysse, France  € 560    \n",
       "4                 Sévrier, France  € 317    \n",
       "5                Lathuile, France  € 651    \n",
       "6           Verrens-Arvey, France  € 161    \n",
       "7               Novalaise, France  € 236    \n",
       "8   Saint-Jean-de-Moirans, France   € 63    \n",
       "9   Saint-Jean-de-Moirans, France   € 96    \n",
       "10               Fontaine, France           \n",
       "11              Novalaise, France           \n",
       "12           Saint-Cassin, France           \n",
       "13                  Revel, France           \n",
       "14      Le Bourget-du-Lac, France           \n",
       "15               Geyssans, France           \n",
       "16    Notre-Dame-du-Cruet, France           \n",
       "17               Monthion, France           \n",
       "18          Aix-les-Bains, France           \n",
       "19                   Mery, France           \n",
       "\n",
       "                                  Distance                           Dates  \\\n",
       "0     6 kilometers away\\n6 kilometers away            May 1 – 6\\nMay 1 – 6   \n",
       "1   22 kilometers away\\n22 kilometers away            May 1 – 6\\nMay 1 – 6   \n",
       "2   77 kilometers away\\n77 kilometers away          May 5 – 10\\nMay 5 – 10   \n",
       "3   50 kilometers away\\n50 kilometers away        May 10 – 15\\nMay 10 – 15   \n",
       "4   83 kilometers away\\n83 kilometers away            May 1 – 6\\nMay 1 – 6   \n",
       "5   80 kilometers away\\n80 kilometers away            May 1 – 6\\nMay 1 – 6   \n",
       "6   71 kilometers away\\n71 kilometers away            Dec 1 – 6\\nDec 1 – 6   \n",
       "7   44 kilometers away\\n44 kilometers away  Jun 30 – Jul 5\\nJun 30 – Jul 5   \n",
       "8   22 kilometers away\\n22 kilometers away            Sep 1 – 6\\nSep 1 – 6   \n",
       "9   22 kilometers away\\n22 kilometers away        Sep 16 – 21\\nSep 16 – 21   \n",
       "10    4 kilometers away\\n4 kilometers away        Jun 16 – 21\\nJun 16 – 21   \n",
       "11  44 kilometers away\\n44 kilometers away        Sep 15 – 20\\nSep 15 – 20   \n",
       "12  43 kilometers away\\n43 kilometers away        May 12 – 17\\nMay 12 – 17   \n",
       "13  12 kilometers away\\n12 kilometers away        May 13 – 18\\nMay 13 – 18   \n",
       "14  54 kilometers away\\n54 kilometers away  Jun 30 – Jul 5\\nJun 30 – Jul 5   \n",
       "15  50 kilometers away\\n50 kilometers away        May 26 – 31\\nMay 26 – 31   \n",
       "16  51 kilometers away\\n51 kilometers away        May 22 – 27\\nMay 22 – 27   \n",
       "17  71 kilometers away\\n71 kilometers away        May 18 – 25\\nMay 18 – 25   \n",
       "18  59 kilometers away\\n59 kilometers away        May 12 – 17\\nMay 12 – 17   \n",
       "19  54 kilometers away\\n54 kilometers away            May 1 – 6\\nMay 1 – 6   \n",
       "\n",
       "   Distance_km  \n",
       "0            6  \n",
       "1           22  \n",
       "2           77  \n",
       "3           50  \n",
       "4           83  \n",
       "5           80  \n",
       "6           71  \n",
       "7           44  \n",
       "8           22  \n",
       "9           22  \n",
       "10           4  \n",
       "11          44  \n",
       "12          43  \n",
       "13          12  \n",
       "14          54  \n",
       "15          50  \n",
       "16          51  \n",
       "17          71  \n",
       "18          59  \n",
       "19          54  "
      ]
     },
     "execution_count": 11,
     "metadata": {},
     "output_type": "execute_result"
    }
   ],
   "source": [
    "df.head(30)"
   ]
  },
  {
   "cell_type": "markdown",
   "metadata": {},
   "source": [
    "#### Formating `Dates`"
   ]
  },
  {
   "cell_type": "code",
   "execution_count": 12,
   "metadata": {},
   "outputs": [
    {
     "name": "stderr",
     "output_type": "stream",
     "text": [
      "/tmp/ipykernel_552013/1161619010.py:1: FutureWarning: The default value of regex will change from True to False in a future version.\n",
      "  df['Dates'] = df['Dates'].str.replace(r'\\n.*', '') # remove duplicate line\n"
     ]
    }
   ],
   "source": [
    "df['Dates'] = df['Dates'].str.replace(r'\\n.*', '') # remove duplicate line\n"
   ]
  },
  {
   "cell_type": "code",
   "execution_count": 13,
   "metadata": {},
   "outputs": [
    {
     "data": {
      "text/plain": [
       "0      May 1 – 6\n",
       "1      May 1 – 6\n",
       "2     May 5 – 10\n",
       "3    May 10 – 15\n",
       "4      May 1 – 6\n",
       "Name: Dates, dtype: object"
      ]
     },
     "execution_count": 13,
     "metadata": {},
     "output_type": "execute_result"
    }
   ],
   "source": [
    "df['Dates'].head()"
   ]
  },
  {
   "cell_type": "code",
   "execution_count": 14,
   "metadata": {},
   "outputs": [],
   "source": [
    "df[['Date_checkin', 'Date_checkout']] = df['Dates'].str.split('– ', expand=True)"
   ]
  },
  {
   "cell_type": "code",
   "execution_count": 15,
   "metadata": {},
   "outputs": [
    {
     "data": {
      "text/html": [
       "<div>\n",
       "<style scoped>\n",
       "    .dataframe tbody tr th:only-of-type {\n",
       "        vertical-align: middle;\n",
       "    }\n",
       "\n",
       "    .dataframe tbody tr th {\n",
       "        vertical-align: top;\n",
       "    }\n",
       "\n",
       "    .dataframe thead th {\n",
       "        text-align: right;\n",
       "    }\n",
       "</style>\n",
       "<table border=\"1\" class=\"dataframe\">\n",
       "  <thead>\n",
       "    <tr style=\"text-align: right;\">\n",
       "      <th></th>\n",
       "      <th>Title</th>\n",
       "      <th>Price</th>\n",
       "      <th>Distance</th>\n",
       "      <th>Dates</th>\n",
       "      <th>Distance_km</th>\n",
       "      <th>Date_checkin</th>\n",
       "      <th>Date_checkout</th>\n",
       "    </tr>\n",
       "  </thead>\n",
       "  <tbody>\n",
       "    <tr>\n",
       "      <th>0</th>\n",
       "      <td>Claix, France</td>\n",
       "      <td>€ 168</td>\n",
       "      <td>6 kilometers away\\n6 kilometers away</td>\n",
       "      <td>May 1 – 6</td>\n",
       "      <td>6</td>\n",
       "      <td>May 1</td>\n",
       "      <td>6</td>\n",
       "    </tr>\n",
       "    <tr>\n",
       "      <th>1</th>\n",
       "      <td>Lumbin, France</td>\n",
       "      <td>€ 78</td>\n",
       "      <td>22 kilometers away\\n22 kilometers away</td>\n",
       "      <td>May 1 – 6</td>\n",
       "      <td>22</td>\n",
       "      <td>May 1</td>\n",
       "      <td>6</td>\n",
       "    </tr>\n",
       "    <tr>\n",
       "      <th>2</th>\n",
       "      <td>Charvieu-Chavagneux, France</td>\n",
       "      <td>€ 162</td>\n",
       "      <td>77 kilometers away\\n77 kilometers away</td>\n",
       "      <td>May 5 – 10</td>\n",
       "      <td>77</td>\n",
       "      <td>May 5</td>\n",
       "      <td>10</td>\n",
       "    </tr>\n",
       "    <tr>\n",
       "      <th>3</th>\n",
       "      <td>Saint-Alban-Leysse, France</td>\n",
       "      <td>€ 560</td>\n",
       "      <td>50 kilometers away\\n50 kilometers away</td>\n",
       "      <td>May 10 – 15</td>\n",
       "      <td>50</td>\n",
       "      <td>May 10</td>\n",
       "      <td>15</td>\n",
       "    </tr>\n",
       "    <tr>\n",
       "      <th>4</th>\n",
       "      <td>Sévrier, France</td>\n",
       "      <td>€ 317</td>\n",
       "      <td>83 kilometers away\\n83 kilometers away</td>\n",
       "      <td>May 1 – 6</td>\n",
       "      <td>83</td>\n",
       "      <td>May 1</td>\n",
       "      <td>6</td>\n",
       "    </tr>\n",
       "    <tr>\n",
       "      <th>5</th>\n",
       "      <td>Lathuile, France</td>\n",
       "      <td>€ 651</td>\n",
       "      <td>80 kilometers away\\n80 kilometers away</td>\n",
       "      <td>May 1 – 6</td>\n",
       "      <td>80</td>\n",
       "      <td>May 1</td>\n",
       "      <td>6</td>\n",
       "    </tr>\n",
       "    <tr>\n",
       "      <th>6</th>\n",
       "      <td>Verrens-Arvey, France</td>\n",
       "      <td>€ 161</td>\n",
       "      <td>71 kilometers away\\n71 kilometers away</td>\n",
       "      <td>Dec 1 – 6</td>\n",
       "      <td>71</td>\n",
       "      <td>Dec 1</td>\n",
       "      <td>6</td>\n",
       "    </tr>\n",
       "    <tr>\n",
       "      <th>7</th>\n",
       "      <td>Novalaise, France</td>\n",
       "      <td>€ 236</td>\n",
       "      <td>44 kilometers away\\n44 kilometers away</td>\n",
       "      <td>Jun 30 – Jul 5</td>\n",
       "      <td>44</td>\n",
       "      <td>Jun 30</td>\n",
       "      <td>Jul 5</td>\n",
       "    </tr>\n",
       "    <tr>\n",
       "      <th>8</th>\n",
       "      <td>Saint-Jean-de-Moirans, France</td>\n",
       "      <td>€ 63</td>\n",
       "      <td>22 kilometers away\\n22 kilometers away</td>\n",
       "      <td>Sep 1 – 6</td>\n",
       "      <td>22</td>\n",
       "      <td>Sep 1</td>\n",
       "      <td>6</td>\n",
       "    </tr>\n",
       "    <tr>\n",
       "      <th>9</th>\n",
       "      <td>Saint-Jean-de-Moirans, France</td>\n",
       "      <td>€ 96</td>\n",
       "      <td>22 kilometers away\\n22 kilometers away</td>\n",
       "      <td>Sep 16 – 21</td>\n",
       "      <td>22</td>\n",
       "      <td>Sep 16</td>\n",
       "      <td>21</td>\n",
       "    </tr>\n",
       "    <tr>\n",
       "      <th>10</th>\n",
       "      <td>Fontaine, France</td>\n",
       "      <td></td>\n",
       "      <td>4 kilometers away\\n4 kilometers away</td>\n",
       "      <td>Jun 16 – 21</td>\n",
       "      <td>4</td>\n",
       "      <td>Jun 16</td>\n",
       "      <td>21</td>\n",
       "    </tr>\n",
       "    <tr>\n",
       "      <th>11</th>\n",
       "      <td>Novalaise, France</td>\n",
       "      <td></td>\n",
       "      <td>44 kilometers away\\n44 kilometers away</td>\n",
       "      <td>Sep 15 – 20</td>\n",
       "      <td>44</td>\n",
       "      <td>Sep 15</td>\n",
       "      <td>20</td>\n",
       "    </tr>\n",
       "    <tr>\n",
       "      <th>12</th>\n",
       "      <td>Saint-Cassin, France</td>\n",
       "      <td></td>\n",
       "      <td>43 kilometers away\\n43 kilometers away</td>\n",
       "      <td>May 12 – 17</td>\n",
       "      <td>43</td>\n",
       "      <td>May 12</td>\n",
       "      <td>17</td>\n",
       "    </tr>\n",
       "    <tr>\n",
       "      <th>13</th>\n",
       "      <td>Revel, France</td>\n",
       "      <td></td>\n",
       "      <td>12 kilometers away\\n12 kilometers away</td>\n",
       "      <td>May 13 – 18</td>\n",
       "      <td>12</td>\n",
       "      <td>May 13</td>\n",
       "      <td>18</td>\n",
       "    </tr>\n",
       "    <tr>\n",
       "      <th>14</th>\n",
       "      <td>Le Bourget-du-Lac, France</td>\n",
       "      <td></td>\n",
       "      <td>54 kilometers away\\n54 kilometers away</td>\n",
       "      <td>Jun 30 – Jul 5</td>\n",
       "      <td>54</td>\n",
       "      <td>Jun 30</td>\n",
       "      <td>Jul 5</td>\n",
       "    </tr>\n",
       "  </tbody>\n",
       "</table>\n",
       "</div>"
      ],
      "text/plain": [
       "                            Title   Price  \\\n",
       "0                   Claix, France  € 168    \n",
       "1                  Lumbin, France   € 78    \n",
       "2     Charvieu-Chavagneux, France  € 162    \n",
       "3      Saint-Alban-Leysse, France  € 560    \n",
       "4                 Sévrier, France  € 317    \n",
       "5                Lathuile, France  € 651    \n",
       "6           Verrens-Arvey, France  € 161    \n",
       "7               Novalaise, France  € 236    \n",
       "8   Saint-Jean-de-Moirans, France   € 63    \n",
       "9   Saint-Jean-de-Moirans, France   € 96    \n",
       "10               Fontaine, France           \n",
       "11              Novalaise, France           \n",
       "12           Saint-Cassin, France           \n",
       "13                  Revel, France           \n",
       "14      Le Bourget-du-Lac, France           \n",
       "\n",
       "                                  Distance           Dates Distance_km  \\\n",
       "0     6 kilometers away\\n6 kilometers away       May 1 – 6           6   \n",
       "1   22 kilometers away\\n22 kilometers away       May 1 – 6          22   \n",
       "2   77 kilometers away\\n77 kilometers away      May 5 – 10          77   \n",
       "3   50 kilometers away\\n50 kilometers away     May 10 – 15          50   \n",
       "4   83 kilometers away\\n83 kilometers away       May 1 – 6          83   \n",
       "5   80 kilometers away\\n80 kilometers away       May 1 – 6          80   \n",
       "6   71 kilometers away\\n71 kilometers away       Dec 1 – 6          71   \n",
       "7   44 kilometers away\\n44 kilometers away  Jun 30 – Jul 5          44   \n",
       "8   22 kilometers away\\n22 kilometers away       Sep 1 – 6          22   \n",
       "9   22 kilometers away\\n22 kilometers away     Sep 16 – 21          22   \n",
       "10    4 kilometers away\\n4 kilometers away     Jun 16 – 21           4   \n",
       "11  44 kilometers away\\n44 kilometers away     Sep 15 – 20          44   \n",
       "12  43 kilometers away\\n43 kilometers away     May 12 – 17          43   \n",
       "13  12 kilometers away\\n12 kilometers away     May 13 – 18          12   \n",
       "14  54 kilometers away\\n54 kilometers away  Jun 30 – Jul 5          54   \n",
       "\n",
       "   Date_checkin Date_checkout  \n",
       "0        May 1              6  \n",
       "1        May 1              6  \n",
       "2        May 5             10  \n",
       "3       May 10             15  \n",
       "4        May 1              6  \n",
       "5        May 1              6  \n",
       "6        Dec 1              6  \n",
       "7       Jun 30          Jul 5  \n",
       "8        Sep 1              6  \n",
       "9       Sep 16             21  \n",
       "10      Jun 16             21  \n",
       "11      Sep 15             20  \n",
       "12      May 12             17  \n",
       "13      May 13             18  \n",
       "14      Jun 30          Jul 5  "
      ]
     },
     "execution_count": 15,
     "metadata": {},
     "output_type": "execute_result"
    }
   ],
   "source": [
    "df.head(15)"
   ]
  },
  {
   "cell_type": "code",
   "execution_count": 16,
   "metadata": {},
   "outputs": [],
   "source": [
    "def add_month_if_not_found(df):\n",
    "    if df.Date_checkout.startswith(tuple(string.digits)):\n",
    "        prefix = df.Date_checkin.split(' ')[0]\n",
    "        return f'{prefix} {df[\"Date_checkout\"]}'\n",
    "    return df['Date_checkout']"
   ]
  },
  {
   "cell_type": "code",
   "execution_count": 17,
   "metadata": {},
   "outputs": [],
   "source": [
    "# Adding the month from `Date_checking` if not already present\n",
    "df['Date_checkout'] = df.apply( add_month_if_not_found, axis=1)"
   ]
  },
  {
   "cell_type": "code",
   "execution_count": 18,
   "metadata": {},
   "outputs": [
    {
     "data": {
      "text/html": [
       "<div>\n",
       "<style scoped>\n",
       "    .dataframe tbody tr th:only-of-type {\n",
       "        vertical-align: middle;\n",
       "    }\n",
       "\n",
       "    .dataframe tbody tr th {\n",
       "        vertical-align: top;\n",
       "    }\n",
       "\n",
       "    .dataframe thead th {\n",
       "        text-align: right;\n",
       "    }\n",
       "</style>\n",
       "<table border=\"1\" class=\"dataframe\">\n",
       "  <thead>\n",
       "    <tr style=\"text-align: right;\">\n",
       "      <th></th>\n",
       "      <th>Title</th>\n",
       "      <th>Price</th>\n",
       "      <th>Distance</th>\n",
       "      <th>Dates</th>\n",
       "      <th>Distance_km</th>\n",
       "      <th>Date_checkin</th>\n",
       "      <th>Date_checkout</th>\n",
       "    </tr>\n",
       "  </thead>\n",
       "  <tbody>\n",
       "    <tr>\n",
       "      <th>0</th>\n",
       "      <td>Claix, France</td>\n",
       "      <td>€ 168</td>\n",
       "      <td>6 kilometers away\\n6 kilometers away</td>\n",
       "      <td>May 1 – 6</td>\n",
       "      <td>6</td>\n",
       "      <td>May 1</td>\n",
       "      <td>May 6</td>\n",
       "    </tr>\n",
       "    <tr>\n",
       "      <th>1</th>\n",
       "      <td>Lumbin, France</td>\n",
       "      <td>€ 78</td>\n",
       "      <td>22 kilometers away\\n22 kilometers away</td>\n",
       "      <td>May 1 – 6</td>\n",
       "      <td>22</td>\n",
       "      <td>May 1</td>\n",
       "      <td>May 6</td>\n",
       "    </tr>\n",
       "    <tr>\n",
       "      <th>2</th>\n",
       "      <td>Charvieu-Chavagneux, France</td>\n",
       "      <td>€ 162</td>\n",
       "      <td>77 kilometers away\\n77 kilometers away</td>\n",
       "      <td>May 5 – 10</td>\n",
       "      <td>77</td>\n",
       "      <td>May 5</td>\n",
       "      <td>May 10</td>\n",
       "    </tr>\n",
       "    <tr>\n",
       "      <th>3</th>\n",
       "      <td>Saint-Alban-Leysse, France</td>\n",
       "      <td>€ 560</td>\n",
       "      <td>50 kilometers away\\n50 kilometers away</td>\n",
       "      <td>May 10 – 15</td>\n",
       "      <td>50</td>\n",
       "      <td>May 10</td>\n",
       "      <td>May 15</td>\n",
       "    </tr>\n",
       "    <tr>\n",
       "      <th>4</th>\n",
       "      <td>Sévrier, France</td>\n",
       "      <td>€ 317</td>\n",
       "      <td>83 kilometers away\\n83 kilometers away</td>\n",
       "      <td>May 1 – 6</td>\n",
       "      <td>83</td>\n",
       "      <td>May 1</td>\n",
       "      <td>May 6</td>\n",
       "    </tr>\n",
       "  </tbody>\n",
       "</table>\n",
       "</div>"
      ],
      "text/plain": [
       "                         Title   Price  \\\n",
       "0                Claix, France  € 168    \n",
       "1               Lumbin, France   € 78    \n",
       "2  Charvieu-Chavagneux, France  € 162    \n",
       "3   Saint-Alban-Leysse, France  € 560    \n",
       "4              Sévrier, France  € 317    \n",
       "\n",
       "                                 Distance        Dates Distance_km  \\\n",
       "0    6 kilometers away\\n6 kilometers away    May 1 – 6           6   \n",
       "1  22 kilometers away\\n22 kilometers away    May 1 – 6          22   \n",
       "2  77 kilometers away\\n77 kilometers away   May 5 – 10          77   \n",
       "3  50 kilometers away\\n50 kilometers away  May 10 – 15          50   \n",
       "4  83 kilometers away\\n83 kilometers away    May 1 – 6          83   \n",
       "\n",
       "  Date_checkin Date_checkout  \n",
       "0       May 1          May 6  \n",
       "1       May 1          May 6  \n",
       "2       May 5         May 10  \n",
       "3      May 10         May 15  \n",
       "4       May 1          May 6  "
      ]
     },
     "execution_count": 18,
     "metadata": {},
     "output_type": "execute_result"
    }
   ],
   "source": [
    "df.head()"
   ]
  },
  {
   "cell_type": "markdown",
   "metadata": {},
   "source": [
    "### Writing CSV"
   ]
  },
  {
   "cell_type": "code",
   "execution_count": 19,
   "metadata": {},
   "outputs": [],
   "source": [
    "df = df.drop(columns=['Distance', 'Dates'])"
   ]
  },
  {
   "cell_type": "code",
   "execution_count": 20,
   "metadata": {},
   "outputs": [],
   "source": [
    "df.reset_index(inplace=True)"
   ]
  },
  {
   "cell_type": "code",
   "execution_count": 21,
   "metadata": {},
   "outputs": [],
   "source": [
    "df.to_csv(\"data.txt\", index=False)"
   ]
  },
  {
   "cell_type": "code",
   "execution_count": 29,
   "metadata": {},
   "outputs": [
    {
     "data": {
      "text/plain": [
       "2"
      ]
     },
     "execution_count": 29,
     "metadata": {},
     "output_type": "execute_result"
    }
   ],
   "source": []
  },
  {
   "cell_type": "code",
   "execution_count": 36,
   "metadata": {},
   "outputs": [
    {
     "data": {
      "text/plain": [
       "0      May 6 2024\n",
       "1      May 6 2024\n",
       "2     May 10 2024\n",
       "3     May 15 2024\n",
       "4      May 6 2024\n",
       "5      May 6 2024\n",
       "6      Dec 6 2024\n",
       "7      Jul 5 2024\n",
       "8      Sep 6 2024\n",
       "9     Sep 21 2024\n",
       "10    Jun 21 2024\n",
       "11    Sep 20 2024\n",
       "12    May 17 2024\n",
       "13    May 18 2024\n",
       "14     Jul 5 2024\n",
       "15    May 31 2024\n",
       "16    May 27 2024\n",
       "17    May 25 2024\n",
       "18    May 17 2024\n",
       "19     May 6 2024\n",
       "Name: Date_checkout, dtype: object"
      ]
     },
     "execution_count": 36,
     "metadata": {},
     "output_type": "execute_result"
    }
   ],
   "source": []
  },
  {
   "cell_type": "code",
   "execution_count": 39,
   "metadata": {},
   "outputs": [
    {
     "ename": "SyntaxError",
     "evalue": "invalid syntax (1990048715.py, line 1)",
     "output_type": "error",
     "traceback": [
      "\u001b[0;36m  File \u001b[0;32m\"/tmp/ipykernel_552013/1990048715.py\"\u001b[0;36m, line \u001b[0;32m1\u001b[0m\n\u001b[0;31m    df['Date_checkout] = pd.to_datetime( df['Date_checkout'] + \" 2024\", format='%b %d %Y')\u001b[0m\n\u001b[0m                                             ^\u001b[0m\n\u001b[0;31mSyntaxError\u001b[0m\u001b[0;31m:\u001b[0m invalid syntax\n"
     ]
    }
   ],
   "source": [
    "df['Date_checkout'] = pd.to_datetime( df['Date_checkout'] + \" 2024\", format='%b %d %Y')\n",
    "df['Date_checkin'] = pd.to_datetime( df['Date_checkin'] + \" 2024\", format='%b %d %Y')\n",
    "df.head()"
   ]
  },
  {
   "cell_type": "code",
   "execution_count": null,
   "metadata": {},
   "outputs": [],
   "source": []
  }
 ],
 "metadata": {
  "kernelspec": {
   "display_name": "base",
   "language": "python",
   "name": "python3"
  },
  "language_info": {
   "codemirror_mode": {
    "name": "ipython",
    "version": 3
   },
   "file_extension": ".py",
   "mimetype": "text/x-python",
   "name": "python",
   "nbconvert_exporter": "python",
   "pygments_lexer": "ipython3",
   "version": "3.9.13"
  }
 },
 "nbformat": 4,
 "nbformat_minor": 2
}
